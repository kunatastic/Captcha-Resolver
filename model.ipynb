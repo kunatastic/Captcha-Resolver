{
  "nbformat": 4,
  "nbformat_minor": 0,
  "metadata": {
    "colab": {
      "name": "IP Final here....",
      "provenance": [],
      "collapsed_sections": []
    },
    "kernelspec": {
      "name": "python3",
      "display_name": "Python 3"
    },
    "language_info": {
      "name": "python"
    },
    "accelerator": "GPU"
  },
  "cells": [
    {
      "cell_type": "markdown",
      "metadata": {
        "id": "GSs7g3VEAxqa"
      },
      "source": [
        "# Brezita\n",
        "\n",
        "A captcha Resolver by Kunal Kumar Jha and Y. Rajeev Krishna\n",
        "\n",
        "## Steps Involved \n",
        "\n",
        "1. Data collection\n",
        "2. Data cleaning\n",
        "3. Data exploration\n",
        "4. Data Preprocessing\n",
        "5. Spliting the train-test model\n",
        "6. Training a CNN Model\n",
        "7. Validation"
      ]
    },
    {
      "cell_type": "markdown",
      "metadata": {
        "id": "c0Ln8jwkBdyW"
      },
      "source": [
        "We are connection the drive to google colab"
      ]
    },
    {
      "cell_type": "code",
      "metadata": {
        "id": "LbTl7YMXpbcK",
        "colab": {
          "base_uri": "https://localhost:8080/"
        },
        "outputId": "e73b2033-d0b9-4558-b586-e5d5f1a16fd5"
      },
      "source": [
        "from google.colab import drive\n",
        "drive.mount('/content/drive')"
      ],
      "execution_count": null,
      "outputs": [
        {
          "output_type": "stream",
          "name": "stdout",
          "text": [
            "Mounted at /content/drive\n"
          ]
        }
      ]
    },
    {
      "cell_type": "code",
      "metadata": {
        "id": "NROkVNm5bvqt"
      },
      "source": [
        "path = './drive/My Drive/Dataset/captcha_ds'"
      ],
      "execution_count": null,
      "outputs": []
    },
    {
      "cell_type": "markdown",
      "metadata": {
        "id": "vuUoBe9uBjpX"
      },
      "source": [
        "Importing all the useful packages"
      ]
    },
    {
      "cell_type": "code",
      "metadata": {
        "id": "sWghckW0q2G2"
      },
      "source": [
        "import cv2\n",
        "import pandas\n",
        "import seaborn\n",
        "import numpy as np\n",
        "import matplotlib.pyplot as plt\n",
        "from tensorflow import keras"
      ],
      "execution_count": null,
      "outputs": []
    },
    {
      "cell_type": "markdown",
      "metadata": {
        "id": "IsAR0XsjBojK"
      },
      "source": [
        "# 4. Data pre-processing\n",
        "\n",
        "- Firstly, we have added `adpativeThreshold()` filter this extracts the features from the background. \n",
        "- Then we used `morphologyEx()` filter for eroding and dilating all the input images.\n",
        "- Then we added an additional `dilate()` filter to dilate the image\n",
        "- Finally, we added `GaussianBlur` to remove any addition noise"
      ]
    },
    {
      "cell_type": "code",
      "metadata": {
        "id": "yiETDUBEaxYc"
      },
      "source": [
        "def manupulate_img(img):\n",
        "  img = cv2.adaptiveThreshold(img, 255, cv2.ADAPTIVE_THRESH_GAUSSIAN_C, cv2.THRESH_BINARY, 145, 0)\n",
        "  img = cv2.morphologyEx(img, cv2.MORPH_CLOSE, np.ones((4,2), np.uint8))\n",
        "  img = cv2.dilate(img, np.ones((2,2), np.uint8), iterations = 1)\n",
        "  img = cv2.GaussianBlur(img, (1,1), 0)\n",
        "  return img"
      ],
      "execution_count": null,
      "outputs": []
    },
    {
      "cell_type": "code",
      "metadata": {
        "id": "bKbHohyzbFA9"
      },
      "source": [
        "import os\n",
        "from PIL import Image\n",
        "from keras.preprocessing.image import img_to_array, ImageDataGenerator"
      ],
      "execution_count": null,
      "outputs": []
    },
    {
      "cell_type": "markdown",
      "metadata": {
        "id": "XODdummwEEem"
      },
      "source": [
        "# 1. Data Collection\n",
        "\n",
        "The data was collected from the Kaggle dataset repository.\n",
        "\n",
        "# 2. Data Cleaning\n",
        "\n",
        "The data was already cleaned so we didnt need to do anything to the data already existed\n",
        "\n",
        "This `create_dataset()` will load all the images form the directory and load the images as a array in grayscale format. We have extracted the 5 characters images from all the images."
      ]
    },
    {
      "cell_type": "code",
      "metadata": {
        "id": "yBmzYpbwbHqP"
      },
      "source": [
        "def create_dataset():\n",
        "  X = []\n",
        "  y = []\n",
        "\n",
        "  for image in os.listdir(path) :\n",
        "      \n",
        "      if image[6:] != 'png' :\n",
        "          continue\n",
        "      \n",
        "      img = cv2.imread(os.path.join(path, image), cv2.IMREAD_GRAYSCALE)\n",
        "      \n",
        "      img = manupulate_img(img)\n",
        "      image_list = [img[10:50, 30:50], img[10:50, 50:70], img[10:50, 70:90], img[10:50, 90:110], img[10:50, 110:130]]\n",
        "      for i in range(5) :\n",
        "          X.append(img_to_array(Image.fromarray(image_list[i])))\n",
        "          y.append(image[i])\n",
        "  X = np.array(X)\n",
        "  y = np.array(y)\n",
        "\n",
        "  return X,y"
      ],
      "execution_count": null,
      "outputs": []
    },
    {
      "cell_type": "code",
      "source": [
        "import os\n",
        "\n",
        "d = {}\n",
        "\n",
        "for image in os.listdir(path):\n",
        "  for i in range(0,5):\n",
        "    if image[i] not in d:\n",
        "      d[image[i]] = 1\n",
        "    else:\n",
        "      d[image[i]]+=1\n",
        "\n",
        "print(d)\n",
        "print(len(d))\n",
        "d = {k: v for k, v in sorted(d.items(), key=lambda item: item[1])}\n"
      ],
      "metadata": {
        "colab": {
          "base_uri": "https://localhost:8080/"
        },
        "id": "bUEIIT6NNekz",
        "outputId": "eb30e83b-2869-4eaf-e91c-51ac68927cb6"
      },
      "execution_count": null,
      "outputs": [
        {
          "output_type": "stream",
          "name": "stdout",
          "text": [
            "{'3': 271, '7': 262, 'x': 271, '2': 270, 'w': 244, 'c': 276, '8': 272, 'p': 259, '6': 267, 'n': 540, '4': 289, 'b': 247, 'm': 283, '5': 288, 'f': 277, 'd': 270, 'y': 240, 'e': 246, 'g': 281, 'o': 1, 'l': 1}\n",
            "21\n"
          ]
        }
      ]
    },
    {
      "cell_type": "code",
      "source": [
        "chars = list(d.keys())\n",
        "freq = list(d.values())\n",
        "\n",
        "chars.reverse()\n",
        "freq.reverse()\n",
        "  \n",
        "print(sum(freq)/5)\n",
        "fig = plt.figure(figsize = (15, 5))\n",
        " \n",
        "# creating the bar plot\n",
        "\n",
        "\n",
        "import matplotlib.pyplot as plt\n",
        "\n",
        "plt.bar(chars, freq, edgecolor='blue', color='grey')\n",
        "# plt.barh(chars, freq)\n",
        " \n",
        "plt.xlabel(\"Frequency\")\n",
        "plt.ylabel(\"Characters\")\n",
        "plt.title(\"Characters distribution\")\n",
        "plt.show()"
      ],
      "metadata": {
        "colab": {
          "base_uri": "https://localhost:8080/",
          "height": 368
        },
        "id": "UQ2x2F4KOvnD",
        "outputId": "7ca14a9f-8f5c-474b-ead7-49b53ddd9871"
      },
      "execution_count": null,
      "outputs": [
        {
          "output_type": "stream",
          "name": "stdout",
          "text": [
            "1071.0\n"
          ]
        },
        {
          "output_type": "display_data",
          "data": {
            "image/png": "[encoded data removed]",
            "text/plain": [
              "<Figure size 1080x360 with 1 Axes>"
            ]
          },
          "metadata": {
            "needs_background": "light"
          }
        }
      ]
    },
    {
      "cell_type": "code",
      "source": [
        "img = cv2.imread(os.path.join(path, \"2b827.png\"), cv2.IMREAD_GRAYSCALE)\n",
        "\n",
        "th1 = manupulate_img(img)\n",
        "th2 = manupulate_img(img)\n",
        "cv2.rectangle(th2, (30, 12), (50, 49), 0, 1)\n",
        "cv2.rectangle(th2, (50, 12), (70, 49), 0, 1)\n",
        "cv2.rectangle(th2, (70, 12), (90, 49), 0, 1)\n",
        "cv2.rectangle(th2, (90, 12), (110, 49), 0, 1)\n",
        "cv2.rectangle(th2, (110, 12), (130, 49), 0, 1)\n",
        "\n",
        "\n",
        "\n",
        "titles = ['a. Original Image', 'b. Preprocessed Image', 'c. Characters Seperation']\n",
        "images = [img, th1,th2]\n",
        "for i in range(len(images)):    \n",
        "  plt.subplot(3,1,i+1),plt.imshow(images[i],'gray')\n",
        "  plt.title(titles[i])\n",
        "  plt.xticks([]),plt.yticks([])\n",
        "plt.subplots_adjust(left=0.1,\n",
        "                    bottom=0.1, \n",
        "                    right=0.9, \n",
        "                    top=0.9, \n",
        "                    wspace=0.4, \n",
        "                    hspace=0.4)\n",
        "plt.show()"
      ],
      "metadata": {
        "colab": {
          "base_uri": "https://localhost:8080/",
          "height": 281
        },
        "id": "U6ebxpyoYjWx",
        "outputId": "2fa59eaf-1da0-4808-f85f-2a5442536979"
      },
      "execution_count": null,
      "outputs": [
        {
          "output_type": "display_data",
          "data": {
            "image/png": "[encoded data removed]",
            "text/plain": [
              "<Figure size 432x288 with 3 Axes>"
            ]
          },
          "metadata": {}
        }
      ]
    },
    {
      "cell_type": "code",
      "metadata": {
        "id": "_uZlNxH0bgfa"
      },
      "source": [
        "X,y = create_dataset()"
      ],
      "execution_count": null,
      "outputs": []
    },
    {
      "cell_type": "code",
      "metadata": {
        "id": "aGCaThs0cn6H",
        "colab": {
          "base_uri": "https://localhost:8080/"
        },
        "outputId": "53d01ca9-afd3-4e6a-f701-b791289a712d"
      },
      "source": [
        "print(X.shape)\n",
        "print(y.shape)"
      ],
      "execution_count": null,
      "outputs": [
        {
          "output_type": "stream",
          "name": "stdout",
          "text": [
            "(5200, 40, 20, 1)\n",
            "(5200,)\n"
          ]
        }
      ]
    },
    {
      "cell_type": "code",
      "metadata": {
        "id": "own9bQCdcukM"
      },
      "source": [
        "X /= 255.0"
      ],
      "execution_count": null,
      "outputs": []
    },
    {
      "cell_type": "code",
      "metadata": {
        "id": "OFv9BFmtdX0g"
      },
      "source": [
        "from sklearn.preprocessing import LabelEncoder, OneHotEncoder\n",
        "\n",
        "y_combine = LabelEncoder().fit_transform(y)\n",
        "y_one_hot = OneHotEncoder(sparse = False).fit_transform(y_combine.reshape(len(y_combine),1))"
      ],
      "execution_count": null,
      "outputs": []
    },
    {
      "cell_type": "code",
      "metadata": {
        "id": "nRRkNaXRdoFM",
        "colab": {
          "base_uri": "https://localhost:8080/"
        },
        "outputId": "bffa06cb-5cae-4340-e170-2c61c19d1ae0"
      },
      "source": [
        "print(X.shape)\n",
        "print(y_one_hot.shape)  # one hot encoded form"
      ],
      "execution_count": null,
      "outputs": [
        {
          "output_type": "stream",
          "name": "stdout",
          "text": [
            "(5200, 40, 20, 1)\n",
            "(5200, 19)\n"
          ]
        }
      ]
    },
    {
      "cell_type": "markdown",
      "metadata": {
        "id": "_4v4Jmm9FKis"
      },
      "source": [
        "# 5. Train Test split\n",
        "\n",
        "The dataset contains 1040 images and all the images are cropped in 5 image so total image were 5200 images to train.\n",
        "\n",
        "Training data contained: 4160 images\n",
        "Testing data contained: 1040 images"
      ]
    },
    {
      "cell_type": "code",
      "metadata": {
        "id": "xC1nZsZ3eUtQ"
      },
      "source": [
        "from sklearn.model_selection import train_test_split\n",
        "X_train, X_test, y_train, y_test = train_test_split(X, y_one_hot, test_size = 0.2, random_state = 1)"
      ],
      "execution_count": null,
      "outputs": []
    },
    {
      "cell_type": "markdown",
      "metadata": {
        "id": "NeeuZ4PPFvYa"
      },
      "source": [
        "### Import CNN Layers\n",
        "\n",
        "We have used keras CNN network to train our classification neural network."
      ]
    },
    {
      "cell_type": "code",
      "metadata": {
        "id": "vgtp0_2CegzI"
      },
      "source": [
        "from keras.models import Sequential \n",
        "from keras.layers import Dense\n",
        "from keras.layers import Conv2D\n",
        "from keras.layers import Flatten\n",
        "from keras.layers import MaxPooling2D\n",
        "from keras.layers import BatchNormalization\n",
        "from keras.layers import Dropout\n",
        "from keras.layers import Reshape\n",
        "from keras.layers import LSTM\n",
        "from keras.layers import Input\n",
        "\n",
        "\n",
        "from keras.preprocessing.image import ImageDataGenerator\n",
        "from keras.callbacks import ReduceLROnPlateau\n",
        "\n",
        "from keras.utils.np_utils import to_categorical # convert to one-hot-encoding\n",
        "from keras.models import Sequential\n",
        "from keras.layers import Dense, Dropout, Flatten, Conv2D, MaxPool2D, Reshape, LSTM\n",
        "from keras.preprocessing.image import ImageDataGenerator\n",
        "from keras.callbacks import ReduceLROnPlateau"
      ],
      "execution_count": null,
      "outputs": []
    },
    {
      "cell_type": "code",
      "metadata": {
        "id": "ZhodgbdxekEk",
        "colab": {
          "base_uri": "https://localhost:8080/"
        },
        "outputId": "48bf0cfc-fda4-4214-986d-b0c57a089e2b"
      },
      "source": [
        "print(X_train.shape)\n",
        "print(y_train.shape)"
      ],
      "execution_count": null,
      "outputs": [
        {
          "output_type": "stream",
          "name": "stdout",
          "text": [
            "(4160, 40, 20, 1)\n",
            "(4160, 19)\n"
          ]
        }
      ]
    },
    {
      "cell_type": "code",
      "metadata": {
        "id": "ovKEk4mdeowO",
        "colab": {
          "base_uri": "https://localhost:8080/"
        },
        "outputId": "a33e9719-7dbf-4936-bdec-6116425a26bd"
      },
      "source": [
        "print(X_test.shape)\n",
        "print(y_test.shape)"
      ],
      "execution_count": null,
      "outputs": [
        {
          "output_type": "stream",
          "name": "stdout",
          "text": [
            "(1040, 40, 20, 1)\n",
            "(1040, 19)\n"
          ]
        }
      ]
    },
    {
      "cell_type": "code",
      "metadata": {
        "id": "-aO2wTC8fHwR"
      },
      "source": [
        "X_train = np.reshape(X_train, (4160, 40*20*1))"
      ],
      "execution_count": null,
      "outputs": []
    },
    {
      "cell_type": "code",
      "metadata": {
        "id": "jhTWl-8EfK9i",
        "colab": {
          "base_uri": "https://localhost:8080/"
        },
        "outputId": "40f80d4b-5807-4154-be10-3323bd49d61e"
      },
      "source": [
        "from imblearn.over_sampling import SMOTE\n",
        "X_train, y_train = SMOTE(sampling_strategy = 'auto', random_state = 1).fit_resample(X_train, y_train)"
      ],
      "execution_count": null,
      "outputs": [
        {
          "output_type": "stream",
          "name": "stderr",
          "text": [
            "/usr/local/lib/python3.7/dist-packages/sklearn/utils/deprecation.py:87: FutureWarning: Function safe_indexing is deprecated; safe_indexing is deprecated in version 0.22 and will be removed in version 0.24.\n",
            "  warnings.warn(msg, category=FutureWarning)\n",
            "/usr/local/lib/python3.7/dist-packages/sklearn/utils/deprecation.py:87: FutureWarning: Function safe_indexing is deprecated; safe_indexing is deprecated in version 0.22 and will be removed in version 0.24.\n",
            "  warnings.warn(msg, category=FutureWarning)\n",
            "/usr/local/lib/python3.7/dist-packages/sklearn/utils/deprecation.py:87: FutureWarning: Function safe_indexing is deprecated; safe_indexing is deprecated in version 0.22 and will be removed in version 0.24.\n",
            "  warnings.warn(msg, category=FutureWarning)\n",
            "/usr/local/lib/python3.7/dist-packages/sklearn/utils/deprecation.py:87: FutureWarning: Function safe_indexing is deprecated; safe_indexing is deprecated in version 0.22 and will be removed in version 0.24.\n",
            "  warnings.warn(msg, category=FutureWarning)\n",
            "/usr/local/lib/python3.7/dist-packages/sklearn/utils/deprecation.py:87: FutureWarning: Function safe_indexing is deprecated; safe_indexing is deprecated in version 0.22 and will be removed in version 0.24.\n",
            "  warnings.warn(msg, category=FutureWarning)\n",
            "/usr/local/lib/python3.7/dist-packages/sklearn/utils/deprecation.py:87: FutureWarning: Function safe_indexing is deprecated; safe_indexing is deprecated in version 0.22 and will be removed in version 0.24.\n",
            "  warnings.warn(msg, category=FutureWarning)\n",
            "/usr/local/lib/python3.7/dist-packages/sklearn/utils/deprecation.py:87: FutureWarning: Function safe_indexing is deprecated; safe_indexing is deprecated in version 0.22 and will be removed in version 0.24.\n",
            "  warnings.warn(msg, category=FutureWarning)\n",
            "/usr/local/lib/python3.7/dist-packages/sklearn/utils/deprecation.py:87: FutureWarning: Function safe_indexing is deprecated; safe_indexing is deprecated in version 0.22 and will be removed in version 0.24.\n",
            "  warnings.warn(msg, category=FutureWarning)\n",
            "/usr/local/lib/python3.7/dist-packages/sklearn/utils/deprecation.py:87: FutureWarning: Function safe_indexing is deprecated; safe_indexing is deprecated in version 0.22 and will be removed in version 0.24.\n",
            "  warnings.warn(msg, category=FutureWarning)\n",
            "/usr/local/lib/python3.7/dist-packages/sklearn/utils/deprecation.py:87: FutureWarning: Function safe_indexing is deprecated; safe_indexing is deprecated in version 0.22 and will be removed in version 0.24.\n",
            "  warnings.warn(msg, category=FutureWarning)\n",
            "/usr/local/lib/python3.7/dist-packages/sklearn/utils/deprecation.py:87: FutureWarning: Function safe_indexing is deprecated; safe_indexing is deprecated in version 0.22 and will be removed in version 0.24.\n",
            "  warnings.warn(msg, category=FutureWarning)\n",
            "/usr/local/lib/python3.7/dist-packages/sklearn/utils/deprecation.py:87: FutureWarning: Function safe_indexing is deprecated; safe_indexing is deprecated in version 0.22 and will be removed in version 0.24.\n",
            "  warnings.warn(msg, category=FutureWarning)\n",
            "/usr/local/lib/python3.7/dist-packages/sklearn/utils/deprecation.py:87: FutureWarning: Function safe_indexing is deprecated; safe_indexing is deprecated in version 0.22 and will be removed in version 0.24.\n",
            "  warnings.warn(msg, category=FutureWarning)\n",
            "/usr/local/lib/python3.7/dist-packages/sklearn/utils/deprecation.py:87: FutureWarning: Function safe_indexing is deprecated; safe_indexing is deprecated in version 0.22 and will be removed in version 0.24.\n",
            "  warnings.warn(msg, category=FutureWarning)\n",
            "/usr/local/lib/python3.7/dist-packages/sklearn/utils/deprecation.py:87: FutureWarning: Function safe_indexing is deprecated; safe_indexing is deprecated in version 0.22 and will be removed in version 0.24.\n",
            "  warnings.warn(msg, category=FutureWarning)\n",
            "/usr/local/lib/python3.7/dist-packages/sklearn/utils/deprecation.py:87: FutureWarning: Function safe_indexing is deprecated; safe_indexing is deprecated in version 0.22 and will be removed in version 0.24.\n",
            "  warnings.warn(msg, category=FutureWarning)\n",
            "/usr/local/lib/python3.7/dist-packages/sklearn/utils/deprecation.py:87: FutureWarning: Function safe_indexing is deprecated; safe_indexing is deprecated in version 0.22 and will be removed in version 0.24.\n",
            "  warnings.warn(msg, category=FutureWarning)\n",
            "/usr/local/lib/python3.7/dist-packages/sklearn/utils/deprecation.py:87: FutureWarning: Function safe_indexing is deprecated; safe_indexing is deprecated in version 0.22 and will be removed in version 0.24.\n",
            "  warnings.warn(msg, category=FutureWarning)\n"
          ]
        }
      ]
    },
    {
      "cell_type": "code",
      "metadata": {
        "id": "UAhEUjzTfPAD",
        "colab": {
          "base_uri": "https://localhost:8080/"
        },
        "outputId": "f9f04699-df44-4860-ed61-4d208d58b5bc"
      },
      "source": [
        "print(X_train.shape)\n",
        "print(y_train.shape)\n"
      ],
      "execution_count": null,
      "outputs": [
        {
          "output_type": "stream",
          "name": "stdout",
          "text": [
            "(7866, 800)\n",
            "(7866, 19)\n"
          ]
        }
      ]
    },
    {
      "cell_type": "code",
      "metadata": {
        "id": "qPavC76xfRQ7"
      },
      "source": [
        "X_train = np.reshape(X_train, (X_train.shape[0], 40, 20, 1))"
      ],
      "execution_count": null,
      "outputs": []
    },
    {
      "cell_type": "code",
      "metadata": {
        "id": "HFWGHKHq0KvK"
      },
      "source": [
        "def create_model_1():\n",
        "\n",
        "  model = Sequential()                                                          #we have used the sequential neural network\n",
        "  model.add(Input((40, 20, 1,)))\n",
        "  \n",
        "  '''----------LAYER1--------'''\n",
        "  model.add(Conv2D(32, (3,3), padding = 'same', activation = 'relu'))           # Conv2D network\n",
        "  model.add(BatchNormalization())\n",
        "  model.add(Dropout(0.2))\n",
        "  model.add(MaxPooling2D(pool_size = (2,2), padding = 'same'))\n",
        "\n",
        "  '''----------LAYER2-------'''\n",
        "  model.add(Conv2D(16, (3,3), padding = 'same', activation = 'relu'))\n",
        "  model.add(BatchNormalization())\n",
        "  model.add(Dropout(0.2))\n",
        "  model.add(MaxPooling2D(pool_size = (2,2), padding = 'same'))\n",
        "\n",
        "  '''----------LAYER3--------'''\n",
        "  model.add(Flatten())\n",
        "  model.add(Dense(32, activation = 'relu'))\n",
        "  model.add(BatchNormalization())\n",
        "  model.add(Dropout(0.2))\n",
        "\n",
        "  '''----------LAYER4--------'''\n",
        "  model.add(Dense(32, activation = 'relu'))\n",
        "  model.add(BatchNormalization())\n",
        "  model.add(Dropout(0.2))\n",
        "\n",
        "  '''----------LAYER5--------'''\n",
        "  model.add(Dense(19, activation = 'softmax'))\n",
        "  model.compile(loss = 'categorical_crossentropy', optimizer = 'adam', metrics = ['accuracy'])\n",
        "\n",
        "  return model"
      ],
      "execution_count": null,
      "outputs": []
    },
    {
      "cell_type": "code",
      "metadata": {
        "id": "bYznRtkDgNDQ",
        "colab": {
          "base_uri": "https://localhost:8080/"
        },
        "outputId": "c9b29fda-8d7b-4e78-a8d9-f4e145e6116b"
      },
      "source": [
        "# model = cnn(128, 32, 16, 32, 32)\n",
        "model = create_model_1()\n",
        "model.summary()"
      ],
      "execution_count": null,
      "outputs": [
        {
          "output_type": "stream",
          "name": "stdout",
          "text": [
            "Model: \"sequential_5\"\n",
            "_________________________________________________________________\n",
            " Layer (type)                Output Shape              Param #   \n",
            "=================================================================\n",
            " conv2d_11 (Conv2D)          (None, 40, 20, 32)        320       \n",
            "                                                                 \n",
            " batch_normalization_19 (Bat  (None, 40, 20, 32)       128       \n",
            " chNormalization)                                                \n",
            "                                                                 \n",
            " dropout_19 (Dropout)        (None, 40, 20, 32)        0         \n",
            "                                                                 \n",
            " max_pooling2d_11 (MaxPoolin  (None, 20, 10, 32)       0         \n",
            " g2D)                                                            \n",
            "                                                                 \n",
            " conv2d_12 (Conv2D)          (None, 20, 10, 16)        4624      \n",
            "                                                                 \n",
            " batch_normalization_20 (Bat  (None, 20, 10, 16)       64        \n",
            " chNormalization)                                                \n",
            "                                                                 \n",
            " dropout_20 (Dropout)        (None, 20, 10, 16)        0         \n",
            "                                                                 \n",
            " max_pooling2d_12 (MaxPoolin  (None, 10, 5, 16)        0         \n",
            " g2D)                                                            \n",
            "                                                                 \n",
            " flatten_5 (Flatten)         (None, 800)               0         \n",
            "                                                                 \n",
            " dense_13 (Dense)            (None, 32)                25632     \n",
            "                                                                 \n",
            " batch_normalization_21 (Bat  (None, 32)               128       \n",
            " chNormalization)                                                \n",
            "                                                                 \n",
            " dropout_21 (Dropout)        (None, 32)                0         \n",
            "                                                                 \n",
            " dense_14 (Dense)            (None, 32)                1056      \n",
            "                                                                 \n",
            " batch_normalization_22 (Bat  (None, 32)               128       \n",
            " chNormalization)                                                \n",
            "                                                                 \n",
            " dropout_22 (Dropout)        (None, 32)                0         \n",
            "                                                                 \n",
            " dense_15 (Dense)            (None, 19)                627       \n",
            "                                                                 \n",
            "=================================================================\n",
            "Total params: 32,707\n",
            "Trainable params: 32,483\n",
            "Non-trainable params: 224\n",
            "_________________________________________________________________\n"
          ]
        }
      ]
    },
    {
      "cell_type": "code",
      "metadata": {
        "id": "MRRAsAGngPuC"
      },
      "source": [
        "from keras.callbacks import ModelCheckpoint\n",
        "checkp = ModelCheckpoint('./result_model.h5', monitor = 'val_loss', verbose = 1, save_best_only = True)"
      ],
      "execution_count": null,
      "outputs": []
    },
    {
      "cell_type": "code",
      "metadata": {
        "id": "aHPgTsT-gUjY",
        "colab": {
          "base_uri": "https://localhost:8080/"
        },
        "outputId": "e43a727b-7a80-426d-be1d-531dbe208e9d"
      },
      "source": [
        "print(X_train.shape)\n",
        "print(y_train.shape)"
      ],
      "execution_count": null,
      "outputs": [
        {
          "output_type": "stream",
          "name": "stdout",
          "text": [
            "(7866, 40, 20, 1)\n",
            "(7866, 19)\n"
          ]
        }
      ]
    },
    {
      "cell_type": "code",
      "metadata": {
        "id": "klwUUl-gGnH0"
      },
      "source": [
        "epochs = 100\n",
        "batch_size = 32"
      ],
      "execution_count": null,
      "outputs": []
    },
    {
      "cell_type": "code",
      "metadata": {
        "id": "-c-uI7_EgeWD",
        "colab": {
          "base_uri": "https://localhost:8080/"
        },
        "outputId": "6e267917-6418-45c5-cffc-face13c4637b"
      },
      "source": [
        "traingen = ImageDataGenerator(rotation_range = 5, width_shift_range = [-2,2])\n",
        "history = model.fit(\n",
        "    traingen.flow(X_train, y_train, batch_size = batch_size), \n",
        "    validation_data = (X_test, y_test), \n",
        "    epochs = epochs, \n",
        "    steps_per_epoch = len(X_train)/batch_size, \n",
        "    callbacks = [checkp]\n",
        "  )"
      ],
      "execution_count": null,
      "outputs": [
        {
          "output_type": "stream",
          "name": "stdout",
          "text": [
            "Epoch 1/100\n",
            "244/245 [============================>.] - ETA: 0s - loss: 2.2429 - accuracy: 0.3461\n",
            "Epoch 00001: val_loss improved from inf to 3.57371, saving model to ./result_model.h5\n",
            "245/245 [==============================] - 7s 22ms/step - loss: 2.2382 - accuracy: 0.3478 - val_loss: 3.5737 - val_accuracy: 0.0981\n",
            "Epoch 2/100\n",
            "244/245 [============================>.] - ETA: 0s - loss: 1.3345 - accuracy: 0.6309\n",
            "Epoch 00002: val_loss improved from 3.57371 to 1.23549, saving model to ./result_model.h5\n",
            "245/245 [==============================] - 5s 21ms/step - loss: 1.3329 - accuracy: 0.6317 - val_loss: 1.2355 - val_accuracy: 0.7000\n",
            "Epoch 3/100\n",
            "244/245 [============================>.] - ETA: 0s - loss: 0.9626 - accuracy: 0.7284\n",
            "Epoch 00003: val_loss improved from 1.23549 to 0.80678, saving model to ./result_model.h5\n",
            "245/245 [==============================] - 5s 21ms/step - loss: 0.9612 - accuracy: 0.7290 - val_loss: 0.8068 - val_accuracy: 0.7587\n",
            "Epoch 4/100\n",
            "245/245 [============================>.] - ETA: 0s - loss: 0.8075 - accuracy: 0.7724\n",
            "Epoch 00004: val_loss improved from 0.80678 to 0.67142, saving model to ./result_model.h5\n",
            "245/245 [==============================] - 5s 21ms/step - loss: 0.8079 - accuracy: 0.7724 - val_loss: 0.6714 - val_accuracy: 0.8058\n",
            "Epoch 5/100\n",
            "246/245 [==============================] - ETA: 0s - loss: 0.7068 - accuracy: 0.8003\n",
            "Epoch 00005: val_loss improved from 0.67142 to 0.64482, saving model to ./result_model.h5\n",
            "245/245 [==============================] - 5s 21ms/step - loss: 0.7068 - accuracy: 0.8003 - val_loss: 0.6448 - val_accuracy: 0.7990\n",
            "Epoch 6/100\n",
            "244/245 [============================>.] - ETA: 0s - loss: 0.6309 - accuracy: 0.8194\n",
            "Epoch 00006: val_loss improved from 0.64482 to 0.64032, saving model to ./result_model.h5\n",
            "245/245 [==============================] - 5s 21ms/step - loss: 0.6330 - accuracy: 0.8188 - val_loss: 0.6403 - val_accuracy: 0.8038\n",
            "Epoch 7/100\n",
            "244/245 [============================>.] - ETA: 0s - loss: 0.5894 - accuracy: 0.8276\n",
            "Epoch 00007: val_loss improved from 0.64032 to 0.62118, saving model to ./result_model.h5\n",
            "245/245 [==============================] - 5s 21ms/step - loss: 0.5883 - accuracy: 0.8276 - val_loss: 0.6212 - val_accuracy: 0.7952\n",
            "Epoch 8/100\n",
            "245/245 [============================>.] - ETA: 0s - loss: 0.5812 - accuracy: 0.8293\n",
            "Epoch 00008: val_loss improved from 0.62118 to 0.57015, saving model to ./result_model.h5\n",
            "245/245 [==============================] - 5s 21ms/step - loss: 0.5816 - accuracy: 0.8291 - val_loss: 0.5702 - val_accuracy: 0.8548\n",
            "Epoch 9/100\n",
            "245/245 [============================>.] - ETA: 0s - loss: 0.5503 - accuracy: 0.8435\n",
            "Epoch 00009: val_loss did not improve from 0.57015\n",
            "245/245 [==============================] - 5s 21ms/step - loss: 0.5490 - accuracy: 0.8438 - val_loss: 0.6054 - val_accuracy: 0.8490\n",
            "Epoch 10/100\n",
            "245/245 [============================>.] - ETA: 0s - loss: 0.4974 - accuracy: 0.8491\n",
            "Epoch 00010: val_loss improved from 0.57015 to 0.53132, saving model to ./result_model.h5\n",
            "245/245 [==============================] - 5s 21ms/step - loss: 0.4973 - accuracy: 0.8494 - val_loss: 0.5313 - val_accuracy: 0.8442\n",
            "Epoch 11/100\n",
            "245/245 [============================>.] - ETA: 0s - loss: 0.4979 - accuracy: 0.8558\n",
            "Epoch 00011: val_loss did not improve from 0.53132\n",
            "245/245 [==============================] - 5s 21ms/step - loss: 0.4971 - accuracy: 0.8558 - val_loss: 0.5497 - val_accuracy: 0.8462\n",
            "Epoch 12/100\n",
            "246/245 [==============================] - ETA: 0s - loss: 0.4949 - accuracy: 0.8520\n",
            "Epoch 00012: val_loss did not improve from 0.53132\n",
            "245/245 [==============================] - 5s 21ms/step - loss: 0.4949 - accuracy: 0.8520 - val_loss: 0.5555 - val_accuracy: 0.8250\n",
            "Epoch 13/100\n",
            "245/245 [============================>.] - ETA: 0s - loss: 0.4787 - accuracy: 0.8564\n",
            "Epoch 00013: val_loss did not improve from 0.53132\n",
            "245/245 [==============================] - 5s 21ms/step - loss: 0.4779 - accuracy: 0.8567 - val_loss: 0.5316 - val_accuracy: 0.8644\n",
            "Epoch 14/100\n",
            "244/245 [============================>.] - ETA: 0s - loss: 0.4653 - accuracy: 0.8609\n",
            "Epoch 00014: val_loss did not improve from 0.53132\n",
            "245/245 [==============================] - 5s 21ms/step - loss: 0.4679 - accuracy: 0.8604 - val_loss: 0.6219 - val_accuracy: 0.7981\n",
            "Epoch 15/100\n",
            "245/245 [============================>.] - ETA: 0s - loss: 0.4721 - accuracy: 0.8591\n",
            "Epoch 00015: val_loss did not improve from 0.53132\n",
            "245/245 [==============================] - 5s 21ms/step - loss: 0.4715 - accuracy: 0.8595 - val_loss: 0.5542 - val_accuracy: 0.8558\n",
            "Epoch 16/100\n",
            "245/245 [============================>.] - ETA: 0s - loss: 0.4472 - accuracy: 0.8633\n",
            "Epoch 00016: val_loss did not improve from 0.53132\n",
            "245/245 [==============================] - 5s 21ms/step - loss: 0.4471 - accuracy: 0.8632 - val_loss: 0.5667 - val_accuracy: 0.8260\n",
            "Epoch 17/100\n",
            "245/245 [============================>.] - ETA: 0s - loss: 0.4330 - accuracy: 0.8717\n",
            "Epoch 00017: val_loss improved from 0.53132 to 0.52449, saving model to ./result_model.h5\n",
            "245/245 [==============================] - 5s 21ms/step - loss: 0.4321 - accuracy: 0.8719 - val_loss: 0.5245 - val_accuracy: 0.8625\n",
            "Epoch 18/100\n",
            "244/245 [============================>.] - ETA: 0s - loss: 0.4318 - accuracy: 0.8694\n",
            "Epoch 00018: val_loss did not improve from 0.52449\n",
            "245/245 [==============================] - 5s 21ms/step - loss: 0.4327 - accuracy: 0.8693 - val_loss: 0.5337 - val_accuracy: 0.8538\n",
            "Epoch 19/100\n",
            "246/245 [==============================] - ETA: 0s - loss: 0.4265 - accuracy: 0.8724\n",
            "Epoch 00019: val_loss improved from 0.52449 to 0.49794, saving model to ./result_model.h5\n",
            "245/245 [==============================] - 5s 21ms/step - loss: 0.4265 - accuracy: 0.8724 - val_loss: 0.4979 - val_accuracy: 0.8846\n",
            "Epoch 20/100\n",
            "245/245 [============================>.] - ETA: 0s - loss: 0.4129 - accuracy: 0.8731\n",
            "Epoch 00020: val_loss improved from 0.49794 to 0.47658, saving model to ./result_model.h5\n",
            "245/245 [==============================] - 5s 21ms/step - loss: 0.4131 - accuracy: 0.8726 - val_loss: 0.4766 - val_accuracy: 0.8808\n",
            "Epoch 21/100\n",
            "246/245 [==============================] - ETA: 0s - loss: 0.4092 - accuracy: 0.8777\n",
            "Epoch 00021: val_loss did not improve from 0.47658\n",
            "245/245 [==============================] - 5s 21ms/step - loss: 0.4092 - accuracy: 0.8777 - val_loss: 0.5106 - val_accuracy: 0.8654\n",
            "Epoch 22/100\n",
            "244/245 [============================>.] - ETA: 0s - loss: 0.4110 - accuracy: 0.8732\n",
            "Epoch 00022: val_loss did not improve from 0.47658\n",
            "245/245 [==============================] - 5s 21ms/step - loss: 0.4103 - accuracy: 0.8730 - val_loss: 0.5454 - val_accuracy: 0.8519\n",
            "Epoch 23/100\n",
            "246/245 [==============================] - ETA: 0s - loss: 0.3947 - accuracy: 0.8818\n",
            "Epoch 00023: val_loss did not improve from 0.47658\n",
            "245/245 [==============================] - 5s 21ms/step - loss: 0.3947 - accuracy: 0.8818 - val_loss: 0.5354 - val_accuracy: 0.8404\n",
            "Epoch 24/100\n",
            "244/245 [============================>.] - ETA: 0s - loss: 0.3764 - accuracy: 0.8864\n",
            "Epoch 00024: val_loss did not improve from 0.47658\n",
            "245/245 [==============================] - 5s 21ms/step - loss: 0.3762 - accuracy: 0.8858 - val_loss: 0.5208 - val_accuracy: 0.8865\n",
            "Epoch 25/100\n",
            "245/245 [============================>.] - ETA: 0s - loss: 0.3889 - accuracy: 0.8864\n",
            "Epoch 00025: val_loss did not improve from 0.47658\n",
            "245/245 [==============================] - 5s 21ms/step - loss: 0.3898 - accuracy: 0.8860 - val_loss: 0.4953 - val_accuracy: 0.8760\n",
            "Epoch 26/100\n",
            "245/245 [============================>.] - ETA: 0s - loss: 0.3868 - accuracy: 0.8831\n",
            "Epoch 00026: val_loss did not improve from 0.47658\n",
            "245/245 [==============================] - 5s 21ms/step - loss: 0.3866 - accuracy: 0.8833 - val_loss: 0.4991 - val_accuracy: 0.8769\n",
            "Epoch 27/100\n",
            "245/245 [============================>.] - ETA: 0s - loss: 0.3752 - accuracy: 0.8835\n",
            "Epoch 00027: val_loss improved from 0.47658 to 0.46547, saving model to ./result_model.h5\n",
            "245/245 [==============================] - 5s 22ms/step - loss: 0.3755 - accuracy: 0.8833 - val_loss: 0.4655 - val_accuracy: 0.8913\n",
            "Epoch 28/100\n",
            "246/245 [==============================] - ETA: 0s - loss: 0.3616 - accuracy: 0.8893\n",
            "Epoch 00028: val_loss did not improve from 0.46547\n",
            "245/245 [==============================] - 5s 21ms/step - loss: 0.3616 - accuracy: 0.8893 - val_loss: 0.4952 - val_accuracy: 0.8654\n",
            "Epoch 29/100\n",
            "244/245 [============================>.] - ETA: 0s - loss: 0.3576 - accuracy: 0.8880\n",
            "Epoch 00029: val_loss did not improve from 0.46547\n",
            "245/245 [==============================] - 5s 21ms/step - loss: 0.3569 - accuracy: 0.8881 - val_loss: 0.4864 - val_accuracy: 0.8760\n",
            "Epoch 30/100\n",
            "244/245 [============================>.] - ETA: 0s - loss: 0.3593 - accuracy: 0.8898\n",
            "Epoch 00030: val_loss did not improve from 0.46547\n",
            "245/245 [==============================] - 5s 21ms/step - loss: 0.3597 - accuracy: 0.8898 - val_loss: 0.5284 - val_accuracy: 0.8683\n",
            "Epoch 31/100\n",
            "245/245 [============================>.] - ETA: 0s - loss: 0.3571 - accuracy: 0.8923\n",
            "Epoch 00031: val_loss did not improve from 0.46547\n",
            "245/245 [==============================] - 5s 21ms/step - loss: 0.3574 - accuracy: 0.8919 - val_loss: 0.4787 - val_accuracy: 0.8798\n",
            "Epoch 32/100\n",
            "245/245 [============================>.] - ETA: 0s - loss: 0.3413 - accuracy: 0.8943\n",
            "Epoch 00032: val_loss did not improve from 0.46547\n",
            "245/245 [==============================] - 5s 21ms/step - loss: 0.3408 - accuracy: 0.8944 - val_loss: 0.5430 - val_accuracy: 0.8769\n",
            "Epoch 33/100\n",
            "246/245 [==============================] - ETA: 0s - loss: 0.3423 - accuracy: 0.8932\n",
            "Epoch 00033: val_loss did not improve from 0.46547\n",
            "245/245 [==============================] - 5s 21ms/step - loss: 0.3423 - accuracy: 0.8932 - val_loss: 0.5162 - val_accuracy: 0.8481\n",
            "Epoch 34/100\n",
            "244/245 [============================>.] - ETA: 0s - loss: 0.3460 - accuracy: 0.8935\n",
            "Epoch 00034: val_loss did not improve from 0.46547\n",
            "245/245 [==============================] - 5s 21ms/step - loss: 0.3465 - accuracy: 0.8931 - val_loss: 0.5019 - val_accuracy: 0.8798\n",
            "Epoch 35/100\n",
            "245/245 [============================>.] - ETA: 0s - loss: 0.3465 - accuracy: 0.8921\n",
            "Epoch 00035: val_loss did not improve from 0.46547\n",
            "245/245 [==============================] - 5s 21ms/step - loss: 0.3463 - accuracy: 0.8921 - val_loss: 0.5134 - val_accuracy: 0.8740\n",
            "Epoch 36/100\n",
            "245/245 [============================>.] - ETA: 0s - loss: 0.3523 - accuracy: 0.8909\n",
            "Epoch 00036: val_loss did not improve from 0.46547\n",
            "245/245 [==============================] - 5s 21ms/step - loss: 0.3522 - accuracy: 0.8907 - val_loss: 0.4789 - val_accuracy: 0.8837\n",
            "Epoch 37/100\n",
            "246/245 [==============================] - ETA: 0s - loss: 0.3347 - accuracy: 0.8938\n",
            "Epoch 00037: val_loss did not improve from 0.46547\n",
            "245/245 [==============================] - 5s 21ms/step - loss: 0.3347 - accuracy: 0.8938 - val_loss: 0.5047 - val_accuracy: 0.8808\n",
            "Epoch 38/100\n",
            "244/245 [============================>.] - ETA: 0s - loss: 0.3227 - accuracy: 0.8964\n",
            "Epoch 00038: val_loss did not improve from 0.46547\n",
            "245/245 [==============================] - 5s 22ms/step - loss: 0.3225 - accuracy: 0.8966 - val_loss: 0.4953 - val_accuracy: 0.8885\n",
            "Epoch 39/100\n",
            "245/245 [============================>.] - ETA: 0s - loss: 0.3419 - accuracy: 0.8941\n",
            "Epoch 00039: val_loss did not improve from 0.46547\n",
            "245/245 [==============================] - 5s 21ms/step - loss: 0.3416 - accuracy: 0.8944 - val_loss: 0.5384 - val_accuracy: 0.8798\n",
            "Epoch 40/100\n",
            "245/245 [============================>.] - ETA: 0s - loss: 0.3312 - accuracy: 0.8970\n",
            "Epoch 00040: val_loss did not improve from 0.46547\n",
            "245/245 [==============================] - 5s 21ms/step - loss: 0.3313 - accuracy: 0.8972 - val_loss: 0.5442 - val_accuracy: 0.8808\n",
            "Epoch 41/100\n",
            "246/245 [==============================] - ETA: 0s - loss: 0.3343 - accuracy: 0.8933\n",
            "Epoch 00041: val_loss did not improve from 0.46547\n",
            "245/245 [==============================] - 5s 21ms/step - loss: 0.3343 - accuracy: 0.8933 - val_loss: 0.5016 - val_accuracy: 0.8865\n",
            "Epoch 42/100\n",
            "245/245 [============================>.] - ETA: 0s - loss: 0.3211 - accuracy: 0.9015\n",
            "Epoch 00042: val_loss did not improve from 0.46547\n",
            "245/245 [==============================] - 5s 22ms/step - loss: 0.3210 - accuracy: 0.9013 - val_loss: 0.4835 - val_accuracy: 0.8856\n",
            "Epoch 43/100\n",
            "244/245 [============================>.] - ETA: 0s - loss: 0.3351 - accuracy: 0.8935\n",
            "Epoch 00043: val_loss did not improve from 0.46547\n",
            "245/245 [==============================] - 5s 21ms/step - loss: 0.3358 - accuracy: 0.8927 - val_loss: 0.4728 - val_accuracy: 0.8894\n",
            "Epoch 44/100\n",
            "244/245 [============================>.] - ETA: 0s - loss: 0.3150 - accuracy: 0.9035\n",
            "Epoch 00044: val_loss did not improve from 0.46547\n",
            "245/245 [==============================] - 5s 21ms/step - loss: 0.3159 - accuracy: 0.9029 - val_loss: 0.4906 - val_accuracy: 0.8788\n",
            "Epoch 45/100\n",
            "244/245 [============================>.] - ETA: 0s - loss: 0.3169 - accuracy: 0.9005\n",
            "Epoch 00045: val_loss did not improve from 0.46547\n",
            "245/245 [==============================] - 5s 22ms/step - loss: 0.3164 - accuracy: 0.9006 - val_loss: 0.4926 - val_accuracy: 0.8712\n",
            "Epoch 46/100\n",
            "245/245 [============================>.] - ETA: 0s - loss: 0.3179 - accuracy: 0.8985\n",
            "Epoch 00046: val_loss did not improve from 0.46547\n",
            "245/245 [==============================] - 5s 21ms/step - loss: 0.3172 - accuracy: 0.8987 - val_loss: 0.4991 - val_accuracy: 0.8923\n",
            "Epoch 47/100\n",
            "246/245 [==============================] - ETA: 0s - loss: 0.3100 - accuracy: 0.9026\n",
            "Epoch 00047: val_loss did not improve from 0.46547\n",
            "245/245 [==============================] - 5s 21ms/step - loss: 0.3100 - accuracy: 0.9026 - val_loss: 0.4690 - val_accuracy: 0.8962\n",
            "Epoch 48/100\n",
            "244/245 [============================>.] - ETA: 0s - loss: 0.3116 - accuracy: 0.9030\n",
            "Epoch 00048: val_loss did not improve from 0.46547\n",
            "245/245 [==============================] - 5s 22ms/step - loss: 0.3119 - accuracy: 0.9033 - val_loss: 0.4875 - val_accuracy: 0.8875\n",
            "Epoch 49/100\n",
            "246/245 [==============================] - ETA: 0s - loss: 0.3093 - accuracy: 0.9020\n",
            "Epoch 00049: val_loss did not improve from 0.46547\n",
            "245/245 [==============================] - 5s 21ms/step - loss: 0.3093 - accuracy: 0.9020 - val_loss: 0.4976 - val_accuracy: 0.8933\n",
            "Epoch 50/100\n",
            "245/245 [============================>.] - ETA: 0s - loss: 0.3070 - accuracy: 0.9017\n",
            "Epoch 00050: val_loss did not improve from 0.46547\n",
            "245/245 [==============================] - 5s 21ms/step - loss: 0.3072 - accuracy: 0.9015 - val_loss: 0.4859 - val_accuracy: 0.8952\n",
            "Epoch 51/100\n",
            "245/245 [============================>.] - ETA: 0s - loss: 0.2980 - accuracy: 0.9040\n",
            "Epoch 00051: val_loss did not improve from 0.46547\n",
            "245/245 [==============================] - 5s 21ms/step - loss: 0.2974 - accuracy: 0.9041 - val_loss: 0.4997 - val_accuracy: 0.8933\n",
            "Epoch 52/100\n",
            "245/245 [============================>.] - ETA: 0s - loss: 0.2980 - accuracy: 0.9110\n",
            "Epoch 00052: val_loss did not improve from 0.46547\n",
            "245/245 [==============================] - 5s 22ms/step - loss: 0.2975 - accuracy: 0.9110 - val_loss: 0.4754 - val_accuracy: 0.8923\n",
            "Epoch 53/100\n",
            "245/245 [============================>.] - ETA: 0s - loss: 0.3033 - accuracy: 0.9035\n",
            "Epoch 00053: val_loss did not improve from 0.46547\n",
            "245/245 [==============================] - 5s 21ms/step - loss: 0.3034 - accuracy: 0.9034 - val_loss: 0.5052 - val_accuracy: 0.8952\n",
            "Epoch 54/100\n",
            "246/245 [==============================] - ETA: 0s - loss: 0.2950 - accuracy: 0.9050\n",
            "Epoch 00054: val_loss did not improve from 0.46547\n",
            "245/245 [==============================] - 5s 22ms/step - loss: 0.2950 - accuracy: 0.9050 - val_loss: 0.5171 - val_accuracy: 0.8702\n",
            "Epoch 55/100\n",
            "246/245 [==============================] - ETA: 0s - loss: 0.2889 - accuracy: 0.9068\n",
            "Epoch 00055: val_loss did not improve from 0.46547\n",
            "245/245 [==============================] - 5s 22ms/step - loss: 0.2889 - accuracy: 0.9068 - val_loss: 0.5026 - val_accuracy: 0.8894\n",
            "Epoch 56/100\n",
            "244/245 [============================>.] - ETA: 0s - loss: 0.3003 - accuracy: 0.9040\n",
            "Epoch 00056: val_loss did not improve from 0.46547\n",
            "245/245 [==============================] - 5s 22ms/step - loss: 0.3003 - accuracy: 0.9039 - val_loss: 0.4883 - val_accuracy: 0.8750\n",
            "Epoch 57/100\n",
            "244/245 [============================>.] - ETA: 0s - loss: 0.2940 - accuracy: 0.9046\n",
            "Epoch 00057: val_loss did not improve from 0.46547\n",
            "245/245 [==============================] - 5s 21ms/step - loss: 0.2940 - accuracy: 0.9048 - val_loss: 0.5215 - val_accuracy: 0.8837\n",
            "Epoch 58/100\n",
            "244/245 [============================>.] - ETA: 0s - loss: 0.2938 - accuracy: 0.9086\n",
            "Epoch 00058: val_loss did not improve from 0.46547\n",
            "245/245 [==============================] - 5s 21ms/step - loss: 0.2939 - accuracy: 0.9082 - val_loss: 0.4827 - val_accuracy: 0.8769\n",
            "Epoch 59/100\n",
            "246/245 [==============================] - ETA: 0s - loss: 0.2693 - accuracy: 0.9124\n",
            "Epoch 00059: val_loss did not improve from 0.46547\n",
            "245/245 [==============================] - 5s 21ms/step - loss: 0.2693 - accuracy: 0.9124 - val_loss: 0.4682 - val_accuracy: 0.8942\n",
            "Epoch 60/100\n",
            "244/245 [============================>.] - ETA: 0s - loss: 0.2975 - accuracy: 0.9057\n",
            "Epoch 00060: val_loss did not improve from 0.46547\n",
            "245/245 [==============================] - 5s 21ms/step - loss: 0.2988 - accuracy: 0.9050 - val_loss: 0.4735 - val_accuracy: 0.8808\n",
            "Epoch 61/100\n",
            "244/245 [============================>.] - ETA: 0s - loss: 0.2929 - accuracy: 0.9067\n",
            "Epoch 00061: val_loss did not improve from 0.46547\n",
            "245/245 [==============================] - 5s 21ms/step - loss: 0.2922 - accuracy: 0.9068 - val_loss: 0.4667 - val_accuracy: 0.8933\n",
            "Epoch 62/100\n",
            "245/245 [============================>.] - ETA: 0s - loss: 0.2794 - accuracy: 0.9124\n",
            "Epoch 00062: val_loss did not improve from 0.46547\n",
            "245/245 [==============================] - 5s 22ms/step - loss: 0.2798 - accuracy: 0.9125 - val_loss: 0.4914 - val_accuracy: 0.8952\n",
            "Epoch 63/100\n",
            "246/245 [==============================] - ETA: 0s - loss: 0.2714 - accuracy: 0.9123\n",
            "Epoch 00063: val_loss did not improve from 0.46547\n",
            "245/245 [==============================] - 5s 22ms/step - loss: 0.2714 - accuracy: 0.9123 - val_loss: 0.4875 - val_accuracy: 0.8894\n",
            "Epoch 64/100\n",
            "244/245 [============================>.] - ETA: 0s - loss: 0.2834 - accuracy: 0.9109\n",
            "Epoch 00064: val_loss did not improve from 0.46547\n",
            "245/245 [==============================] - 5s 22ms/step - loss: 0.2823 - accuracy: 0.9110 - val_loss: 0.4967 - val_accuracy: 0.8942\n",
            "Epoch 65/100\n",
            "244/245 [============================>.] - ETA: 0s - loss: 0.2883 - accuracy: 0.9075\n",
            "Epoch 00065: val_loss did not improve from 0.46547\n",
            "245/245 [==============================] - 5s 22ms/step - loss: 0.2881 - accuracy: 0.9072 - val_loss: 0.4971 - val_accuracy: 0.8760\n",
            "Epoch 66/100\n",
            "244/245 [============================>.] - ETA: 0s - loss: 0.2817 - accuracy: 0.9084\n",
            "Epoch 00066: val_loss did not improve from 0.46547\n",
            "245/245 [==============================] - 5s 22ms/step - loss: 0.2820 - accuracy: 0.9082 - val_loss: 0.4708 - val_accuracy: 0.8808\n",
            "Epoch 67/100\n",
            "246/245 [==============================] - ETA: 0s - loss: 0.2837 - accuracy: 0.9099\n",
            "Epoch 00067: val_loss did not improve from 0.46547\n",
            "245/245 [==============================] - 5s 22ms/step - loss: 0.2837 - accuracy: 0.9099 - val_loss: 0.4778 - val_accuracy: 0.8798\n",
            "Epoch 68/100\n",
            "244/245 [============================>.] - ETA: 0s - loss: 0.2898 - accuracy: 0.9071\n",
            "Epoch 00068: val_loss did not improve from 0.46547\n",
            "245/245 [==============================] - 5s 21ms/step - loss: 0.2886 - accuracy: 0.9073 - val_loss: 0.4893 - val_accuracy: 0.8923\n",
            "Epoch 69/100\n",
            "245/245 [============================>.] - ETA: 0s - loss: 0.2697 - accuracy: 0.9133\n",
            "Epoch 00069: val_loss did not improve from 0.46547\n",
            "245/245 [==============================] - 5s 21ms/step - loss: 0.2700 - accuracy: 0.9133 - val_loss: 0.5026 - val_accuracy: 0.8846\n",
            "Epoch 70/100\n",
            "246/245 [==============================] - ETA: 0s - loss: 0.2677 - accuracy: 0.9133\n",
            "Epoch 00070: val_loss did not improve from 0.46547\n",
            "245/245 [==============================] - 5s 22ms/step - loss: 0.2677 - accuracy: 0.9133 - val_loss: 0.4893 - val_accuracy: 0.8904\n",
            "Epoch 71/100\n",
            "245/245 [============================>.] - ETA: 0s - loss: 0.2707 - accuracy: 0.9113\n",
            "Epoch 00071: val_loss did not improve from 0.46547\n",
            "245/245 [==============================] - 5s 22ms/step - loss: 0.2714 - accuracy: 0.9110 - val_loss: 0.4848 - val_accuracy: 0.8817\n",
            "Epoch 72/100\n",
            "244/245 [============================>.] - ETA: 0s - loss: 0.2901 - accuracy: 0.9127\n",
            "Epoch 00072: val_loss did not improve from 0.46547\n",
            "245/245 [==============================] - 5s 21ms/step - loss: 0.2898 - accuracy: 0.9127 - val_loss: 0.4997 - val_accuracy: 0.8846\n",
            "Epoch 73/100\n",
            "246/245 [==============================] - ETA: 0s - loss: 0.2700 - accuracy: 0.9134\n",
            "Epoch 00073: val_loss did not improve from 0.46547\n",
            "245/245 [==============================] - 5s 22ms/step - loss: 0.2700 - accuracy: 0.9134 - val_loss: 0.4837 - val_accuracy: 0.8837\n",
            "Epoch 74/100\n",
            "245/245 [============================>.] - ETA: 0s - loss: 0.2703 - accuracy: 0.9129\n",
            "Epoch 00074: val_loss improved from 0.46547 to 0.45782, saving model to ./result_model.h5\n",
            "245/245 [==============================] - 5s 22ms/step - loss: 0.2701 - accuracy: 0.9129 - val_loss: 0.4578 - val_accuracy: 0.8913\n",
            "Epoch 75/100\n",
            "244/245 [============================>.] - ETA: 0s - loss: 0.2715 - accuracy: 0.9114\n",
            "Epoch 00075: val_loss did not improve from 0.45782\n",
            "245/245 [==============================] - 5s 22ms/step - loss: 0.2716 - accuracy: 0.9113 - val_loss: 0.4888 - val_accuracy: 0.8865\n",
            "Epoch 76/100\n",
            "244/245 [============================>.] - ETA: 0s - loss: 0.2679 - accuracy: 0.9134\n",
            "Epoch 00076: val_loss did not improve from 0.45782\n",
            "245/245 [==============================] - 5s 22ms/step - loss: 0.2678 - accuracy: 0.9133 - val_loss: 0.5271 - val_accuracy: 0.8692\n",
            "Epoch 77/100\n",
            "246/245 [==============================] - ETA: 0s - loss: 0.2761 - accuracy: 0.9119\n",
            "Epoch 00077: val_loss did not improve from 0.45782\n",
            "245/245 [==============================] - 6s 23ms/step - loss: 0.2761 - accuracy: 0.9119 - val_loss: 0.5395 - val_accuracy: 0.8702\n",
            "Epoch 78/100\n",
            "245/245 [============================>.] - ETA: 0s - loss: 0.2587 - accuracy: 0.9164\n",
            "Epoch 00078: val_loss did not improve from 0.45782\n",
            "245/245 [==============================] - 6s 23ms/step - loss: 0.2584 - accuracy: 0.9166 - val_loss: 0.4929 - val_accuracy: 0.8721\n",
            "Epoch 79/100\n",
            "246/245 [==============================] - ETA: 0s - loss: 0.2592 - accuracy: 0.9162\n",
            "Epoch 00079: val_loss did not improve from 0.45782\n",
            "245/245 [==============================] - 6s 22ms/step - loss: 0.2592 - accuracy: 0.9162 - val_loss: 0.5007 - val_accuracy: 0.8942\n",
            "Epoch 80/100\n",
            "245/245 [============================>.] - ETA: 0s - loss: 0.2547 - accuracy: 0.9197\n",
            "Epoch 00080: val_loss did not improve from 0.45782\n",
            "245/245 [==============================] - 6s 22ms/step - loss: 0.2544 - accuracy: 0.9198 - val_loss: 0.5066 - val_accuracy: 0.8837\n",
            "Epoch 81/100\n",
            "246/245 [==============================] - ETA: 0s - loss: 0.2615 - accuracy: 0.9181\n",
            "Epoch 00081: val_loss did not improve from 0.45782\n",
            "245/245 [==============================] - 5s 22ms/step - loss: 0.2615 - accuracy: 0.9181 - val_loss: 0.4902 - val_accuracy: 0.8923\n",
            "Epoch 82/100\n",
            "244/245 [============================>.] - ETA: 0s - loss: 0.2667 - accuracy: 0.9185\n",
            "Epoch 00082: val_loss did not improve from 0.45782\n",
            "245/245 [==============================] - 6s 23ms/step - loss: 0.2655 - accuracy: 0.9188 - val_loss: 0.5372 - val_accuracy: 0.8683\n",
            "Epoch 83/100\n",
            "245/245 [============================>.] - ETA: 0s - loss: 0.2627 - accuracy: 0.9178\n",
            "Epoch 00083: val_loss did not improve from 0.45782\n",
            "245/245 [==============================] - 6s 22ms/step - loss: 0.2624 - accuracy: 0.9179 - val_loss: 0.5050 - val_accuracy: 0.8817\n",
            "Epoch 84/100\n",
            "246/245 [==============================] - ETA: 0s - loss: 0.2671 - accuracy: 0.9127\n",
            "Epoch 00084: val_loss did not improve from 0.45782\n",
            "245/245 [==============================] - 6s 23ms/step - loss: 0.2671 - accuracy: 0.9127 - val_loss: 0.5333 - val_accuracy: 0.8596\n",
            "Epoch 85/100\n",
            "244/245 [============================>.] - ETA: 0s - loss: 0.2537 - accuracy: 0.9160\n",
            "Epoch 00085: val_loss did not improve from 0.45782\n",
            "245/245 [==============================] - 6s 22ms/step - loss: 0.2536 - accuracy: 0.9165 - val_loss: 0.4870 - val_accuracy: 0.8923\n",
            "Epoch 86/100\n",
            "244/245 [============================>.] - ETA: 0s - loss: 0.2465 - accuracy: 0.9196\n",
            "Epoch 00086: val_loss did not improve from 0.45782\n",
            "245/245 [==============================] - 6s 22ms/step - loss: 0.2463 - accuracy: 0.9197 - val_loss: 0.5018 - val_accuracy: 0.8673\n",
            "Epoch 87/100\n",
            "244/245 [============================>.] - ETA: 0s - loss: 0.2580 - accuracy: 0.9182\n",
            "Epoch 00087: val_loss did not improve from 0.45782\n",
            "245/245 [==============================] - 6s 22ms/step - loss: 0.2582 - accuracy: 0.9179 - val_loss: 0.5090 - val_accuracy: 0.8875\n",
            "Epoch 88/100\n",
            "244/245 [============================>.] - ETA: 0s - loss: 0.2717 - accuracy: 0.9089\n",
            "Epoch 00088: val_loss did not improve from 0.45782\n",
            "245/245 [==============================] - 6s 22ms/step - loss: 0.2719 - accuracy: 0.9087 - val_loss: 0.5713 - val_accuracy: 0.8442\n",
            "Epoch 89/100\n",
            "246/245 [==============================] - ETA: 0s - loss: 0.2510 - accuracy: 0.9193\n",
            "Epoch 00089: val_loss did not improve from 0.45782\n",
            "245/245 [==============================] - 6s 23ms/step - loss: 0.2510 - accuracy: 0.9193 - val_loss: 0.5113 - val_accuracy: 0.8856\n",
            "Epoch 90/100\n",
            "246/245 [==============================] - ETA: 0s - loss: 0.2493 - accuracy: 0.9166\n",
            "Epoch 00090: val_loss did not improve from 0.45782\n",
            "245/245 [==============================] - 6s 23ms/step - loss: 0.2493 - accuracy: 0.9166 - val_loss: 0.5243 - val_accuracy: 0.8837\n",
            "Epoch 91/100\n",
            "245/245 [============================>.] - ETA: 0s - loss: 0.2567 - accuracy: 0.9180\n",
            "Epoch 00091: val_loss did not improve from 0.45782\n",
            "245/245 [==============================] - 6s 23ms/step - loss: 0.2559 - accuracy: 0.9184 - val_loss: 0.5137 - val_accuracy: 0.8760\n",
            "Epoch 92/100\n",
            "244/245 [============================>.] - ETA: 0s - loss: 0.2638 - accuracy: 0.9172\n",
            "Epoch 00092: val_loss did not improve from 0.45782\n",
            "245/245 [==============================] - 6s 23ms/step - loss: 0.2634 - accuracy: 0.9174 - val_loss: 0.5097 - val_accuracy: 0.8827\n",
            "Epoch 93/100\n",
            "244/245 [============================>.] - ETA: 0s - loss: 0.2674 - accuracy: 0.9157\n",
            "Epoch 00093: val_loss did not improve from 0.45782\n",
            "245/245 [==============================] - 6s 23ms/step - loss: 0.2671 - accuracy: 0.9156 - val_loss: 0.5045 - val_accuracy: 0.8904\n",
            "Epoch 94/100\n",
            "245/245 [============================>.] - ETA: 0s - loss: 0.2503 - accuracy: 0.9187\n",
            "Epoch 00094: val_loss did not improve from 0.45782\n",
            "245/245 [==============================] - 6s 23ms/step - loss: 0.2496 - accuracy: 0.9189 - val_loss: 0.5020 - val_accuracy: 0.8827\n",
            "Epoch 95/100\n",
            "244/245 [============================>.] - ETA: 0s - loss: 0.2517 - accuracy: 0.9191\n",
            "Epoch 00095: val_loss did not improve from 0.45782\n",
            "245/245 [==============================] - 6s 23ms/step - loss: 0.2520 - accuracy: 0.9189 - val_loss: 0.5057 - val_accuracy: 0.8779\n",
            "Epoch 96/100\n",
            "246/245 [==============================] - ETA: 0s - loss: 0.2393 - accuracy: 0.9189\n",
            "Epoch 00096: val_loss did not improve from 0.45782\n",
            "245/245 [==============================] - 6s 22ms/step - loss: 0.2393 - accuracy: 0.9189 - val_loss: 0.4950 - val_accuracy: 0.8846\n",
            "Epoch 97/100\n",
            "244/245 [============================>.] - ETA: 0s - loss: 0.2504 - accuracy: 0.9176\n",
            "Epoch 00097: val_loss did not improve from 0.45782\n",
            "245/245 [==============================] - 5s 22ms/step - loss: 0.2512 - accuracy: 0.9171 - val_loss: 0.5013 - val_accuracy: 0.8769\n",
            "Epoch 98/100\n",
            "244/245 [============================>.] - ETA: 0s - loss: 0.2431 - accuracy: 0.9208\n",
            "Epoch 00098: val_loss did not improve from 0.45782\n",
            "245/245 [==============================] - 5s 22ms/step - loss: 0.2440 - accuracy: 0.9207 - val_loss: 0.5016 - val_accuracy: 0.8827\n",
            "Epoch 99/100\n",
            "245/245 [============================>.] - ETA: 0s - loss: 0.2497 - accuracy: 0.9195\n",
            "Epoch 00099: val_loss did not improve from 0.45782\n",
            "245/245 [==============================] - 5s 22ms/step - loss: 0.2503 - accuracy: 0.9194 - val_loss: 0.5139 - val_accuracy: 0.8760\n",
            "Epoch 100/100\n",
            "245/245 [============================>.] - ETA: 0s - loss: 0.2498 - accuracy: 0.9201\n",
            "Epoch 00100: val_loss did not improve from 0.45782\n",
            "245/245 [==============================] - 5s 22ms/step - loss: 0.2496 - accuracy: 0.9200 - val_loss: 0.5200 - val_accuracy: 0.8721\n"
          ]
        }
      ]
    },
    {
      "cell_type": "code",
      "metadata": {
        "id": "4_JS4ying0yV",
        "colab": {
          "base_uri": "https://localhost:8080/",
          "height": 478
        },
        "outputId": "b58b5469-c2d9-420e-bb70-020dfe4fcaf6"
      },
      "source": [
        "plt.figure(figsize = (20,10))\n",
        "plt.subplot(2,1,1)\n",
        "plt.plot(history.history['loss'])\n",
        "plt.plot(history.history['val_loss'])\n",
        "plt.xlabel('Epochs')\n",
        "plt.ylabel('Losses')\n",
        "plt.legend(['train loss','val loss'])\n",
        "plt.title('Loss function wrt epochs')\n",
        "\n",
        "plt.subplot(2,1,2)\n",
        "plt.plot(history.history['accuracy'])\n",
        "plt.plot(history.history['val_accuracy'])\n",
        "plt.xlabel('Epochs')\n",
        "plt.ylabel('Accuracy')\n",
        "plt.legend(['train acc' , 'val acc'])\n",
        "plt.title('Model accuracy wrt Epoch')"
      ],
      "execution_count": null,
      "outputs": [
        {
          "output_type": "execute_result",
          "data": {
            "text/plain": [
              "Text(0.5, 1.0, 'Model accuracy wrt Epoch')"
            ]
          },
          "metadata": {},
          "execution_count": 158
        },
        {
          "output_type": "display_data",
          "data": {
            "image/png": "[encoded data removed]",
            "text/plain": [
              "<Figure size 1440x720 with 2 Axes>"
            ]
          },
          "metadata": {
            "needs_background": "light"
          }
        }
      ]
    },
    {
      "cell_type": "code",
      "metadata": {
        "id": "5AA_JBrLtKkE"
      },
      "source": [
        "model.save(path+\"/model/third.h5\")"
      ],
      "execution_count": null,
      "outputs": []
    },
    {
      "cell_type": "code",
      "metadata": {
        "id": "Z3VK2dpluXgs"
      },
      "source": [
        "from keras.models import load_model\n",
        "new_model =  load_model(path+\"/model/third.h5\")"
      ],
      "execution_count": null,
      "outputs": []
    },
    {
      "cell_type": "code",
      "metadata": {
        "id": "Mmdg0MA6uln4"
      },
      "source": [
        "pred = new_model.predict(X_test)\n",
        "# pred = model.predict(X_test)"
      ],
      "execution_count": null,
      "outputs": []
    },
    {
      "cell_type": "code",
      "metadata": {
        "id": "-unQWG_mupKx"
      },
      "source": [
        "pred = np.argmax(pred, axis = 1)\n",
        "yres = np.argmax(y_test,axis= 1)"
      ],
      "execution_count": null,
      "outputs": []
    },
    {
      "cell_type": "code",
      "metadata": {
        "id": "9PB960EwhHKP"
      },
      "source": [
        "info = {y_combine[i] : y[i] for i in range(len(y))}"
      ],
      "execution_count": null,
      "outputs": []
    },
    {
      "cell_type": "code",
      "metadata": {
        "id": "pqgdThXcureV"
      },
      "source": [
        "from sklearn.metrics import accuracy_score, classification_report\n",
        "target_name = []\n",
        "for i in sorted(info) :\n",
        "    target_name.append(info[i])"
      ],
      "execution_count": null,
      "outputs": []
    },
    {
      "cell_type": "code",
      "metadata": {
        "id": "Fg74cf36u1Lt",
        "colab": {
          "base_uri": "https://localhost:8080/"
        },
        "outputId": "fa1ebaf1-21a3-439f-e319-dbf6f4d69e67"
      },
      "source": [
        "print('Accuracy : ' + str(accuracy_score(yres, pred)))\n",
        "print(classification_report(yres, pred, target_names = target_name))"
      ],
      "execution_count": null,
      "outputs": [
        {
          "output_type": "stream",
          "name": "stdout",
          "text": [
            "Accuracy : 0.8721153846153846\n",
            "              precision    recall  f1-score   support\n",
            "\n",
            "           2       0.92      0.97      0.94        58\n",
            "           3       1.00      0.91      0.95        58\n",
            "           4       0.90      0.95      0.92        57\n",
            "           5       0.97      0.94      0.95        67\n",
            "           6       0.93      0.80      0.86        46\n",
            "           7       0.98      0.89      0.93        55\n",
            "           8       0.85      0.94      0.89        53\n",
            "           b       0.95      0.93      0.94        41\n",
            "           c       0.87      0.82      0.85        50\n",
            "           d       0.80      0.88      0.83        49\n",
            "           e       0.93      0.91      0.92        43\n",
            "           f       0.77      0.98      0.86        44\n",
            "           g       0.97      0.95      0.96        60\n",
            "           m       0.47      0.62      0.54        42\n",
            "           n       0.78      0.66      0.71       111\n",
            "           p       0.95      0.91      0.93        45\n",
            "           w       0.80      0.85      0.82        52\n",
            "           x       0.93      0.98      0.95        54\n",
            "           y       0.94      0.85      0.90        55\n",
            "\n",
            "    accuracy                           0.87      1040\n",
            "   macro avg       0.88      0.88      0.88      1040\n",
            "weighted avg       0.88      0.87      0.87      1040\n",
            "\n"
          ]
        }
      ]
    },
    {
      "cell_type": "code",
      "metadata": {
        "id": "AT2JaziKcXTh",
        "colab": {
          "base_uri": "https://localhost:8080/"
        },
        "outputId": "327c03f9-a972-4346-a742-0cc2aeae3a89"
      },
      "source": [
        "print(info)"
      ],
      "execution_count": null,
      "outputs": [
        {
          "output_type": "stream",
          "name": "stdout",
          "text": [
            "{1: '3', 5: '7', 17: 'x', 0: '2', 16: 'w', 8: 'c', 6: '8', 15: 'p', 4: '6', 14: 'n', 2: '4', 7: 'b', 13: 'm', 3: '5', 11: 'f', 9: 'd', 18: 'y', 10: 'e', 12: 'g'}\n"
          ]
        }
      ]
    },
    {
      "cell_type": "code",
      "metadata": {
        "id": "FDw0jZtirKyp"
      },
      "source": [
        "model_json = model.to_json()\n",
        "with open(\"model.json\", \"w\") as json_file:\n",
        "    json_file.write(model_json)\n",
        "# serialize weights to HDF5\n",
        "model.save_weights(\"model.h5\")"
      ],
      "execution_count": null,
      "outputs": []
    },
    {
      "cell_type": "code",
      "metadata": {
        "colab": {
          "base_uri": "https://localhost:8080/"
        },
        "id": "NK7TeQEsLWW9",
        "outputId": "965389f4-ae28-49e4-c892-10bd9fee6044"
      },
      "source": [
        "from sklearn.metrics import confusion_matrix,f1_score\n",
        "# confusion_matrix(yres, pred)\n",
        "print(yres,pred)\n",
        "print(sum(f1_score(yres,pred,average=None))/len(info))"
      ],
      "execution_count": null,
      "outputs": [
        {
          "output_type": "stream",
          "name": "stdout",
          "text": [
            "[ 9 14  8 ...  2  7 12] [ 9 14  8 ...  2  7 12]\n",
            "0.8772285404451834\n"
          ]
        }
      ]
    }
  ]
}